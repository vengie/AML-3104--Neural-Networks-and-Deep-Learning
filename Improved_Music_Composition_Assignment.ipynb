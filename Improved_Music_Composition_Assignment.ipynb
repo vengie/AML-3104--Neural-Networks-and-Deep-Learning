{
  "nbformat": 4,
  "nbformat_minor": 0,
  "metadata": {
    "colab": {
      "provenance": [],
      "authorship_tag": "ABX9TyPdsdewDb/OyyVOHfs11It9",
      "include_colab_link": true
    },
    "kernelspec": {
      "name": "python3",
      "display_name": "Python 3"
    },
    "language_info": {
      "name": "python"
    }
  },
  "cells": [
    {
      "cell_type": "markdown",
      "metadata": {
        "id": "view-in-github",
        "colab_type": "text"
      },
      "source": [
        "<a href=\"https://colab.research.google.com/github/vengie/AML-3104--Neural-Networks-and-Deep-Learning-Assignment-1/blob/main/Improved_Music_Composition_Assignment.ipynb\" target=\"_parent\"><img src=\"https://colab.research.google.com/assets/colab-badge.svg\" alt=\"Open In Colab\"/></a>"
      ]
    },
    {
      "cell_type": "code",
      "execution_count": 4,
      "metadata": {
        "id": "BcvQozI6-kIw"
      },
      "outputs": [],
      "source": [
        "import glob\n",
        "import pickle\n",
        "import numpy as np\n",
        "from music21 import converter, instrument, note, chord\n",
        "from keras.models import Sequential\n",
        "from keras.layers import LSTM, Dropout, Dense, Activation, BatchNormalization\n",
        "from keras.utils import np_utils\n",
        "from keras.callbacks import ModelCheckpoint"
      ]
    },
    {
      "cell_type": "code",
      "source": [
        "SEQUENCE_LENGTH = 100\n",
        "EPOCHS = 200\n",
        "BATCH_SIZE = 128"
      ],
      "metadata": {
        "id": "oGBY0RVp_BoA"
      },
      "execution_count": 5,
      "outputs": []
    },
    {
      "cell_type": "code",
      "source": [
        "def train_network():\n",
        "    \"\"\"Train a Neural Network to generate music.\"\"\"\n",
        "    notes = get_notes()\n",
        "    n_vocab = len(set(notes))\n",
        "    network_input, network_output = prepare_sequences(notes, n_vocab)\n",
        "    model = create_network(network_input, n_vocab)\n",
        "    train(model, network_input, network_output)"
      ],
      "metadata": {
        "id": "zR8jiRgn_IZB"
      },
      "execution_count": 6,
      "outputs": []
    },
    {
      "cell_type": "code",
      "source": [
        "def get_notes():\n",
        "    \"\"\"Get all the notes and chords from the midi files.\"\"\"\n",
        "    notes = []\n",
        "    for file in glob.glob(\"/content/midi_songs/*.mid\"):\n",
        "        midi = converter.parse(file)\n",
        "        print(f\"Parsing {file}\")\n",
        "        try:\n",
        "            parts = instrument.partitionByInstrument(midi)\n",
        "            notes_to_parse = parts.parts[0].recurse()\n",
        "        except:\n",
        "            notes_to_parse = midi.flat.notes\n",
        "\n",
        "        for element in notes_to_parse:\n",
        "            if isinstance(element, note.Note):\n",
        "                notes.append(str(element.pitch))\n",
        "            elif isinstance(element, chord.Chord):\n",
        "                notes.append('.'.join(str(n) for n in element.normalOrder))\n",
        "\n",
        "    with open('/content/data/notes', 'wb') as filepath:\n",
        "        pickle.dump(notes, filepath)\n",
        "    return notes"
      ],
      "metadata": {
        "id": "RgHwempf_M-w"
      },
      "execution_count": 7,
      "outputs": []
    },
    {
      "cell_type": "code",
      "source": [
        "def prepare_sequences(notes, n_vocab):\n",
        "    \"\"\"Prepare sequences used by the Neural Network.\"\"\"\n",
        "    pitchnames = sorted(set(notes))\n",
        "    note_to_int = dict((note, number) for number, note in enumerate(pitchnames))\n",
        "\n",
        "    network_input, network_output = [], []\n",
        "    for i in range(0, len(notes) - SEQUENCE_LENGTH, 1):\n",
        "        in_seq = notes[i:i + SEQUENCE_LENGTH]\n",
        "        out_seq = notes[i + SEQUENCE_LENGTH]\n",
        "        network_input.append([note_to_int[char] for char in in_seq])\n",
        "        network_output.append(note_to_int[out_seq])\n",
        "\n",
        "    n_patterns = len(network_input)\n",
        "    network_input = np.reshape(network_input, (n_patterns, SEQUENCE_LENGTH, 1))\n",
        "    network_input = network_input / float(n_vocab)\n",
        "    network_output = np_utils.to_categorical(network_output)\n",
        "    return network_input, network_output"
      ],
      "metadata": {
        "id": "miwCAkNA_NzA"
      },
      "execution_count": 8,
      "outputs": []
    },
    {
      "cell_type": "code",
      "source": [
        "def create_network(network_input, n_vocab):\n",
        "    \"\"\"Create the structure of the neural network.\"\"\"\n",
        "    model = Sequential()\n",
        "    model.add(LSTM(512, input_shape=(network_input.shape[1], network_input.shape[2]), recurrent_dropout=0.3, return_sequences=True))\n",
        "    model.add(LSTM(512, return_sequences=True, recurrent_dropout=0.3))\n",
        "    model.add(LSTM(512))\n",
        "    model.add(BatchNormalization())\n",
        "    model.add(Dropout(0.3))\n",
        "    model.add(Dense(256))\n",
        "    model.add(Activation('relu'))\n",
        "    model.add(BatchNormalization())\n",
        "    model.add(Dropout(0.3))\n",
        "    model.add(Dense(n_vocab))\n",
        "    model.add(Activation('softmax'))\n",
        "    model.compile(loss='categorical_crossentropy', optimizer='rmsprop')\n",
        "    return model"
      ],
      "metadata": {
        "id": "1sAEVlZU_TiL"
      },
      "execution_count": 9,
      "outputs": []
    },
    {
      "cell_type": "code",
      "source": [
        "def train(model, network_input, network_output):\n",
        "    \"\"\"Train the neural network.\"\"\"\n",
        "    filepath = \"weights-improvement-{epoch:02d}-{loss:.4f}-bigger.hdf5\"\n",
        "    checkpoint = ModelCheckpoint(filepath, monitor='loss', verbose=0, save_best_only=True, mode='min')\n",
        "    callbacks_list = [checkpoint]\n",
        "    model.fit(network_input, network_output, epochs=EPOCHS, batch_size=BATCH_SIZE, callbacks=callbacks_list)"
      ],
      "metadata": {
        "id": "lqXMRVs9_WuW"
      },
      "execution_count": 10,
      "outputs": []
    },
    {
      "cell_type": "code",
      "source": [
        "if __name__ == '__main__':\n",
        "    train_network()"
      ],
      "metadata": {
        "colab": {
          "base_uri": "https://localhost:8080/"
        },
        "id": "0hWQGuhX_aUF",
        "outputId": "8de22a3a-8d9e-4df6-df4f-ed9f6d12f7ed"
      },
      "execution_count": null,
      "outputs": [
        {
          "output_type": "stream",
          "name": "stdout",
          "text": [
            "Parsing /content/midi_songs/figaro.mid\n",
            "Parsing /content/midi_songs/Life_Stream.mid\n",
            "Parsing /content/midi_songs/Ff7-Cinco.mid\n",
            "Parsing /content/midi_songs/Ff7-Jenova_Absolute.mid\n",
            "Parsing /content/midi_songs/FF3_Battle_(Piano).mid\n",
            "Parsing /content/midi_songs/Finalfantasy5gilgameshp.mid\n"
          ]
        },
        {
          "output_type": "stream",
          "name": "stderr",
          "text": [
            "/usr/local/lib/python3.10/dist-packages/music21/midi/translate.py:863: TranslateWarning: Unable to determine instrument from <music21.midi.MidiEvent SEQUENCE_TRACK_NAME, track=6, channel=None, data=b'Pok\\xe9mon: Elite Four (Piano)'>; getting generic Instrument\n",
            "  warnings.warn(\n"
          ]
        },
        {
          "output_type": "stream",
          "name": "stdout",
          "text": [
            "Parsing /content/midi_songs/pkelite4.mid\n",
            "Parsing /content/midi_songs/waltz_de_choco.mid\n",
            "Parsing /content/midi_songs/Eternal_Harvest.mid\n",
            "Parsing /content/midi_songs/thoughts.mid\n",
            "Parsing /content/midi_songs/rufus.mid\n",
            "Parsing /content/midi_songs/ultros.mid\n",
            "Parsing /content/midi_songs/FF8_Shuffle_or_boogie_pc.mid\n",
            "Parsing /content/midi_songs/Kingdom_Hearts_Traverse_Town.mid\n",
            "Parsing /content/midi_songs/Finalfantasy6fanfarecomplete.mid\n",
            "Parsing /content/midi_songs/FFX_-_Ending_Theme_(Piano_Version)_-_by_Angel_FF.mid\n",
            "Parsing /content/midi_songs/JENOVA.mid\n",
            "Parsing /content/midi_songs/Fyw_piano.mid\n",
            "Parsing /content/midi_songs/ff1battp.mid\n",
            "Parsing /content/midi_songs/bcm.mid\n",
            "Parsing /content/midi_songs/decisive.mid\n",
            "Parsing /content/midi_songs/AT.mid\n",
            "Parsing /content/midi_songs/tifap.mid\n",
            "Parsing /content/midi_songs/dayafter.mid\n"
          ]
        },
        {
          "output_type": "stream",
          "name": "stderr",
          "text": [
            "/usr/local/lib/python3.10/dist-packages/music21/midi/translate.py:863: TranslateWarning: Unable to determine instrument from <music21.midi.MidiEvent SEQUENCE_TRACK_NAME, track=5, channel=None, data=b'Martin Rosok Copyright \\xa9 1998'>; getting generic Instrument\n",
            "  warnings.warn(\n"
          ]
        },
        {
          "output_type": "stream",
          "name": "stdout",
          "text": [
            "Parsing /content/midi_songs/ff7themep.mid\n",
            "Parsing /content/midi_songs/sera_.mid\n",
            "Parsing /content/midi_songs/FF4.mid\n",
            "Parsing /content/midi_songs/balamb.mid\n",
            "Parsing /content/midi_songs/ff4-fight1.mid\n",
            "Parsing /content/midi_songs/dontbeafraid.mid\n",
            "Parsing /content/midi_songs/ahead_on_our_way_piano.mid\n",
            "Parsing /content/midi_songs/Suteki_Da_Ne_(Piano_Version).mid\n",
            "Parsing /content/midi_songs/Still_Alive-1.mid\n",
            "Parsing /content/midi_songs/Rachel_Piano_tempofix.mid\n",
            "Parsing /content/midi_songs/ff4-airship.mid\n",
            "Parsing /content/midi_songs/ff11_awakening_piano.mid\n",
            "Parsing /content/midi_songs/path_of_repentance.mid\n",
            "Parsing /content/midi_songs/Zelda_Overworld.mid\n",
            "Parsing /content/midi_songs/Kingdom_Hearts_Dearly_Beloved.mid\n",
            "Parsing /content/midi_songs/BlueStone_LastDungeon.mid\n",
            "Parsing /content/midi_songs/great_war.mid\n",
            "Parsing /content/midi_songs/Oppressed.mid\n",
            "Parsing /content/midi_songs/fortresscondor.mid\n",
            "Parsing /content/midi_songs/Rydia_pc.mid\n",
            "Parsing /content/midi_songs/DOS.mid\n",
            "Parsing /content/midi_songs/EyesOnMePiano.mid\n",
            "Parsing /content/midi_songs/In_Zanarkand.mid\n",
            "Parsing /content/midi_songs/thenightmarebegins.mid\n",
            "Parsing /content/midi_songs/0fithos.mid\n",
            "Parsing /content/midi_songs/HighwindTakestotheSkies.mid\n",
            "Parsing /content/midi_songs/Cids.mid\n",
            "Parsing /content/midi_songs/ViviinAlexandria.mid\n",
            "Parsing /content/midi_songs/goldsaucer.mid\n",
            "Parsing /content/midi_songs/Gold_Silver_Rival_Battle.mid\n",
            "Parsing /content/midi_songs/VincentPiano.mid\n",
            "Parsing /content/midi_songs/Fierce_Battle_(Piano).mid\n",
            "Parsing /content/midi_songs/FFIII_Edgar_And_Sabin_Piano.mid\n",
            "Parsing /content/midi_songs/Ff4-BattleLust.mid\n",
            "Parsing /content/midi_songs/OTD5YA.mid\n",
            "Parsing /content/midi_songs/Ff7-One_Winged.mid\n",
            "Parsing /content/midi_songs/Final_Fantasy_7_-_Judgement_Day_Piano.mid\n",
            "Parsing /content/midi_songs/costadsol.mid\n",
            "Parsing /content/midi_songs/ultimafro.mid\n",
            "Parsing /content/midi_songs/redwings.mid\n",
            "Parsing /content/midi_songs/roseofmay-piano.mid\n",
            "Parsing /content/midi_songs/sobf.mid\n",
            "Parsing /content/midi_songs/ff4-town.mid\n",
            "Parsing /content/midi_songs/gerudo.mid\n",
            "Parsing /content/midi_songs/cosmo.mid\n",
            "Parsing /content/midi_songs/ff4_piano_collections-main_theme.mid\n",
            "Parsing /content/midi_songs/ff7-mainmidi.mid\n",
            "Parsing /content/midi_songs/lurk_in_dark.mid\n",
            "Parsing /content/midi_songs/FF3_Third_Phase_Final_(Piano).mid\n",
            "Parsing /content/midi_songs/FFIX_Piano.mid\n",
            "Parsing /content/midi_songs/Fiend_Battle_(Piano).mid\n",
            "Parsing /content/midi_songs/tpirtsd-piano.mid\n",
            "Parsing /content/midi_songs/traitor.mid\n",
            "Parsing /content/midi_songs/FF6epitaph_piano.mid\n",
            "Parsing /content/midi_songs/relmstheme-piano.mid\n",
            "Parsing /content/midi_songs/ff8-lfp.mid\n",
            "Parsing /content/midi_songs/braska.mid\n",
            "Parsing /content/midi_songs/sandy.mid\n",
            "Parsing /content/midi_songs/ff4pclov.mid\n",
            "Parsing /content/midi_songs/z_aeristhemepiano.mid\n",
            "Parsing /content/midi_songs/mining.mid\n",
            "Parsing /content/midi_songs/ff6shap.mid\n",
            "Parsing /content/midi_songs/Final_Fantasy_Matouyas_Cave_Piano.mid\n",
            "Parsing /content/midi_songs/FFIXQuMarshP.mid\n",
            "Parsing /content/midi_songs/electric_de_chocobo.mid\n",
            "Parsing /content/midi_songs/caitsith.mid\n",
            "Parsing /content/midi_songs/FFVII_BATTLE.mid\n",
            "Parsing /content/midi_songs/8.mid\n",
            "Epoch 1/200\n",
            " 58/359 [===>..........................] - ETA: 1:05:49 - loss: 5.7186"
          ]
        }
      ]
    }
  ]
}